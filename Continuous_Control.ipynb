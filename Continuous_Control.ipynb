{
 "cells": [
  {
   "cell_type": "markdown",
   "metadata": {},
   "source": [
    "# Continuous Control\n",
    "\n",
    "---\n",
    "\n",
    "In this notebook, you will learn how to use the Unity ML-Agents environment for the second project of the [Deep Reinforcement Learning Nanodegree](https://www.udacity.com/course/deep-reinforcement-learning-nanodegree--nd893) program.\n",
    "\n",
    "### 1. Start the Environment\n",
    "\n",
    "We begin by importing the necessary packages.  If the code cell below returns an error, please revisit the project instructions to double-check that you have installed [Unity ML-Agents](https://github.com/Unity-Technologies/ml-agents/blob/master/docs/Installation.md) and [NumPy](http://www.numpy.org/)."
   ]
  },
  {
   "cell_type": "code",
   "execution_count": 1,
   "metadata": {},
   "outputs": [],
   "source": [
    "import time\n",
    "from collections import deque\n",
    "\n",
    "from unityagents import UnityEnvironment\n",
    "import numpy as np\n",
    "import torch\n",
    "\n",
    "import matplotlib.pyplot as plt"
   ]
  },
  {
   "cell_type": "markdown",
   "metadata": {},
   "source": [
    "Next, we will start the environment!  **_Before running the code cell below_**, change the `file_name` parameter to match the location of the Unity environment that you downloaded.\n",
    "\n",
    "- **Mac**: `\"path/to/Reacher.app\"`\n",
    "- **Windows** (x86): `\"path/to/Reacher_Windows_x86/Reacher.exe\"`\n",
    "- **Windows** (x86_64): `\"path/to/Reacher_Windows_x86_64/Reacher.exe\"`\n",
    "- **Linux** (x86): `\"path/to/Reacher_Linux/Reacher.x86\"`\n",
    "- **Linux** (x86_64): `\"path/to/Reacher_Linux/Reacher.x86_64\"`\n",
    "- **Linux** (x86, headless): `\"path/to/Reacher_Linux_NoVis/Reacher.x86\"`\n",
    "- **Linux** (x86_64, headless): `\"path/to/Reacher_Linux_NoVis/Reacher.x86_64\"`\n",
    "\n",
    "For instance, if you are using a Mac, then you downloaded `Reacher.app`.  If this file is in the same folder as the notebook, then the line below should appear as follows:\n",
    "```\n",
    "env = UnityEnvironment(file_name=\"Reacher.app\")\n",
    "```"
   ]
  },
  {
   "cell_type": "code",
   "execution_count": 2,
   "metadata": {
    "scrolled": true
   },
   "outputs": [
    {
     "name": "stderr",
     "output_type": "stream",
     "text": [
      "INFO:unityagents:\n",
      "'Academy' started successfully!\n",
      "Unity Academy name: Academy\n",
      "        Number of Brains: 1\n",
      "        Number of External Brains : 1\n",
      "        Lesson number : 0\n",
      "        Reset Parameters :\n",
      "\t\tgoal_speed -> 1.0\n",
      "\t\tgoal_size -> 5.0\n",
      "Unity brain name: ReacherBrain\n",
      "        Number of Visual Observations (per agent): 0\n",
      "        Vector Observation space type: continuous\n",
      "        Vector Observation space size (per agent): 33\n",
      "        Number of stacked Vector Observation: 1\n",
      "        Vector Action space type: continuous\n",
      "        Vector Action space size (per agent): 4\n",
      "        Vector Action descriptions: , , , \n"
     ]
    }
   ],
   "source": [
    "env = UnityEnvironment(file_name='C:/Users/rovaa/deep-reinforcement-learning/p2_continuous-control/Reacher_Windows_x86_64/Reacher.exe')\n",
    "#env = UnityEnvironment(file_name=\"C:/Users/rovaa/deep-reinforcement-learning/p1_navigation/Banana_Windows_x86_64/Banana.exe\")"
   ]
  },
  {
   "cell_type": "markdown",
   "metadata": {},
   "source": [
    "Environments contain **_brains_** which are responsible for deciding the actions of their associated agents. Here we check for the first brain available, and set it as the default brain we will be controlling from Python."
   ]
  },
  {
   "cell_type": "code",
   "execution_count": 3,
   "metadata": {},
   "outputs": [],
   "source": [
    "# get the default brain\n",
    "brain_name = env.brain_names[0]\n",
    "brain = env.brains[brain_name]"
   ]
  },
  {
   "cell_type": "markdown",
   "metadata": {},
   "source": [
    "### 2. Examine the State and Action Spaces\n",
    "\n",
    "In this environment, a double-jointed arm can move to target locations. A reward of `+0.1` is provided for each step that the agent's hand is in the goal location. Thus, the goal of your agent is to maintain its position at the target location for as many time steps as possible.\n",
    "\n",
    "The observation space consists of `33` variables corresponding to position, rotation, velocity, and angular velocities of the arm.  Each action is a vector with four numbers, corresponding to torque applicable to two joints.  Every entry in the action vector must be a number between `-1` and `1`.\n",
    "\n",
    "Run the code cell below to print some information about the environment."
   ]
  },
  {
   "cell_type": "code",
   "execution_count": 4,
   "metadata": {},
   "outputs": [
    {
     "name": "stdout",
     "output_type": "stream",
     "text": [
      "Number of agents: 1\n",
      "Size of each action: 4\n",
      "There are 1 agents. Each observes a state with length: 33\n",
      "The state for the first agent looks like: [ 0.00000000e+00 -4.00000000e+00  0.00000000e+00  1.00000000e+00\n",
      " -0.00000000e+00 -0.00000000e+00 -4.37113883e-08  0.00000000e+00\n",
      "  0.00000000e+00  0.00000000e+00  0.00000000e+00  0.00000000e+00\n",
      "  0.00000000e+00  0.00000000e+00 -1.00000000e+01  0.00000000e+00\n",
      "  1.00000000e+00 -0.00000000e+00 -0.00000000e+00 -4.37113883e-08\n",
      "  0.00000000e+00  0.00000000e+00  0.00000000e+00  0.00000000e+00\n",
      "  0.00000000e+00  0.00000000e+00  5.75471878e+00 -1.00000000e+00\n",
      "  5.55726671e+00  0.00000000e+00  1.00000000e+00  0.00000000e+00\n",
      " -1.68164849e-01]\n"
     ]
    }
   ],
   "source": [
    "# reset the environment\n",
    "env_info = env.reset(train_mode=True)[brain_name]\n",
    "\n",
    "# number of agents\n",
    "num_agents = len(env_info.agents)\n",
    "print('Number of agents:', num_agents)\n",
    "\n",
    "# size of each action\n",
    "action_size = brain.vector_action_space_size\n",
    "print('Size of each action:', action_size)\n",
    "\n",
    "# examine the state space \n",
    "states = env_info.vector_observations\n",
    "state_size = states.shape[1]\n",
    "print('There are {} agents. Each observes a state with length: {}'.format(states.shape[0], state_size))\n",
    "print('The state for the first agent looks like:', states[0])"
   ]
  },
  {
   "cell_type": "markdown",
   "metadata": {},
   "source": [
    "### 3. Take Random Actions in the Environment\n",
    "\n",
    "In the next code cell, you will learn how to use the Python API to control the agent and receive feedback from the environment.\n",
    "\n",
    "Once this cell is executed, you will watch the agent's performance, if it selects an action at random with each time step.  A window should pop up that allows you to observe the agent, as it moves through the environment.  \n",
    "\n",
    "Of course, as part of the project, you'll have to change the code so that the agent is able to use its experience to gradually choose better actions when interacting with the environment!"
   ]
  },
  {
   "cell_type": "code",
   "execution_count": null,
   "metadata": {},
   "outputs": [],
   "source": [
    "env_info = env.reset(train_mode=False)[brain_name]     # reset the environment    \n",
    "states = env_info.vector_observations                  # get the current state (for each agent)\n",
    "scores = np.zeros(num_agents)                          # initialize the score (for each agent)\n",
    "while True:\n",
    "    actions = np.random.randn(num_agents, action_size) # select an action (for each agent)\n",
    "    actions = np.clip(actions, -1, 1)                  # all actions between -1 and 1\n",
    "    env_info = env.step(actions)[brain_name]           # send all actions to tne environment\n",
    "    next_states = env_info.vector_observations         # get next state (for each agent)\n",
    "    rewards = env_info.rewards                         # get reward (for each agent)\n",
    "    dones = env_info.local_done                        # see if episode finished\n",
    "    scores += env_info.rewards                         # update the score (for each agent)\n",
    "    states = next_states                               # roll over states to next time step\n",
    "    if np.any(dones):                                  # exit loop if episode finished\n",
    "        break\n",
    "print('Total score (averaged over agents) this episode: {}'.format(np.mean(scores)))"
   ]
  },
  {
   "cell_type": "markdown",
   "metadata": {},
   "source": [
    "When finished, you can close the environment."
   ]
  },
  {
   "cell_type": "code",
   "execution_count": null,
   "metadata": {},
   "outputs": [],
   "source": [
    "env.close()"
   ]
  },
  {
   "cell_type": "markdown",
   "metadata": {},
   "source": [
    "### 4. It's Your Turn!\n",
    "\n",
    "Now it's your turn to train your own agent to solve the environment!  When training the environment, set `train_mode=True`, so that the line for resetting the environment looks like the following:\n",
    "```python\n",
    "env_info = env.reset(train_mode=True)[brain_name]\n",
    "```"
   ]
  },
  {
   "cell_type": "markdown",
   "metadata": {},
   "source": [
    "#### 4.1 Import and instantiate the agent \n",
    "In the following cell of code the agent is imported by `ddpg_agent` and it it instantiated. "
   ]
  },
  {
   "cell_type": "code",
   "execution_count": 5,
   "metadata": {},
   "outputs": [],
   "source": [
    "import ddpg_agent\n",
    "import torch.optim as optim\n",
    "import importlib\n",
    "import time\n",
    "\n",
    "importlib.reload(ddpg_agent)\n",
    "\n",
    "agent = ddpg_agent.Agent(state_size=state_size, action_size=action_size, random_seed = 10)"
   ]
  },
  {
   "cell_type": "markdown",
   "metadata": {},
   "source": [
    "#### 4.2 Test de agent"
   ]
  },
  {
   "cell_type": "code",
   "execution_count": 6,
   "metadata": {},
   "outputs": [
    {
     "name": "stderr",
     "output_type": "stream",
     "text": [
      "C:\\Users\\rovaa\\Anaconda3\\envs\\drlnd\\lib\\site-packages\\torch\\nn\\functional.py:995: UserWarning: nn.functional.tanh is deprecated. Use torch.tanh instead.\n",
      "  warnings.warn(\"nn.functional.tanh is deprecated. Use torch.tanh instead.\")\n"
     ]
    },
    {
     "name": "stdout",
     "output_type": "stream",
     "text": [
      "Score: 0.0\n"
     ]
    }
   ],
   "source": [
    "# An untrained agent\n",
    "\n",
    "device = torch.device(\"cuda:0\" if torch.cuda.is_available() else \"cpu\")\n",
    "\n",
    "env_info = env.reset(train_mode=False)[brain_name] # reset the environment\n",
    "state = env_info.vector_observations[0]            # get the current state\n",
    "score = 0                                          # initialize the score\n",
    "\n",
    "for j in range(100):\n",
    "    actions = agent.act(state)                # select an action\n",
    "    env_info = env.step(actions)[brain_name]  # send the action to the environment\n",
    "    next_state = env_info.vector_observations[0]   # get the next state\n",
    "    reward = env_info.rewards[0]                   # get the reward\n",
    "    done = env_info.local_done[0]                  # see if episode has finished\n",
    "    score += reward                                # update the score\n",
    "    state = next_state                             # roll over the state to next time step\n",
    "    if done:                                       # exit loop if episode finished\n",
    "        break\n",
    "\n",
    "print(\"Score: {}\".format(score))"
   ]
  },
  {
   "cell_type": "markdown",
   "metadata": {},
   "source": [
    "#### 4.3 Define the DDPG training function and train an agent"
   ]
  },
  {
   "cell_type": "code",
   "execution_count": 31,
   "metadata": {},
   "outputs": [],
   "source": [
    "def ddpg(n_episodes=1000, max_t=10000, print_every=1, save_every=100, ckp_critic='checkpoint_critic.pth',ckp_actor = 'checkpoint_actor.pth'):\n",
    "    \n",
    "    \"\"\"DDQN Algorithm.\n",
    "    \n",
    "    Params\n",
    "    ======\n",
    "        n_episodes (int): maximum number of training episodes\n",
    "        max_t (int): maximum number of timesteps per episode\n",
    "        print_every (int): frequency of printing information throughout iteration \n",
    "        save_every (int): number of episodes to save actor-critic weights\n",
    "        ckp_critic (str): path to save weights of critic NN\n",
    "        ckp_actor(str): path to save weights of actor NN\n",
    "        \"\"\"\n",
    "        \n",
    "    \n",
    "    scores = []\n",
    "    averages = []\n",
    "    scores_deque = deque(maxlen=print_every)\n",
    "    \n",
    "    for i_episode in range(1, n_episodes+1):\n",
    "        env_info = env.reset(train_mode=True)[brain_name]\n",
    "        agent.reset()\n",
    "        state = env_info.vector_observations[0]            # get the current state\n",
    "        score = 0\n",
    "        start_time = time.time()\n",
    "        for t in range(max_t):\n",
    "            action = agent.act(state)          # select an action\n",
    "       \n",
    "            env_info = env.step(action)[brain_name]        # send the action to the environment\n",
    "            next_state = env_info.vector_observations[0]   # get the next state\n",
    "            reward = env_info.rewards[0]                   # get the reward\n",
    "            done = env_info.local_done[0]                  # see if episode has finished\n",
    "            agent.step(state, action, reward, next_state, done) # take step with agent (including learning)\n",
    "            score += reward                                # update the score\n",
    "            state = next_state                             # roll over the state to next time step\n",
    "            if done:                                       # exit loop if episode finished\n",
    "                break\n",
    "        \n",
    "        duration = time.time() - start_time\n",
    "        scores_deque.append(score)       # save most recent score\n",
    "        scores.append(score)             # save most recent score\n",
    "        averages.append(np.mean(scores))  # save mean of scores\n",
    "\n",
    "        #print('\\rEpisode {}\\tAverage Score: {:.2f}'.format(i_episode, np.mean(scores_deque)), end=\"\")\n",
    "        \n",
    "        if i_episode % print_every == 0:\n",
    "            print('\\rEpisode: {} ({}sec)\\tScore: {:.2f}\\tAverage Score: {:.2f}'.format(i_episode, round(duration), score, np.mean(scores)))\n",
    "        if i_episode % save_every == 0:\n",
    "            torch.save(agent.actor_local.state_dict(), ckp_actor)\n",
    "            torch.save(agent.critic_local.state_dict(), ckp_critic)\n",
    "        if np.mean(scores_deque)>=30.0:\n",
    "            print('\\nEnvironment solved in {:d} episodes!\\tAverage Score: {:.2f}'.format(i_episode, np.mean(scores_deque)))\n",
    "            torch.save(agent.actor_local.state_dict(), ckp_actor)\n",
    "            torch.save(agent.critic_local.state_dict(), ckp_critic)\n",
    "            break\n",
    "            \n",
    "    return scores, averages"
   ]
  },
  {
   "cell_type": "markdown",
   "metadata": {},
   "source": [
    "Train the agent for a number of episodes: `n_episodes`"
   ]
  },
  {
   "cell_type": "code",
   "execution_count": null,
   "metadata": {},
   "outputs": [
    {
     "name": "stdout",
     "output_type": "stream",
     "text": [
      "Episode: 1 (16sec)\tScore: 0.45\tAverage Score: 0.45\n",
      "Episode: 2 (17sec)\tScore: 1.01\tAverage Score: 0.73\n",
      "Episode: 3 (18sec)\tScore: 2.13\tAverage Score: 1.20\n",
      "Episode: 4 (19sec)\tScore: 2.91\tAverage Score: 1.62\n",
      "Episode: 5 (19sec)\tScore: 0.74\tAverage Score: 1.45\n",
      "Episode: 6 (18sec)\tScore: 2.65\tAverage Score: 1.65\n",
      "Episode: 7 (18sec)\tScore: 0.76\tAverage Score: 1.52\n",
      "Episode: 8 (20sec)\tScore: 2.29\tAverage Score: 1.62\n",
      "Episode: 9 (20sec)\tScore: 1.96\tAverage Score: 1.66\n",
      "Episode: 10 (20sec)\tScore: 1.02\tAverage Score: 1.59\n",
      "Episode: 11 (20sec)\tScore: 1.75\tAverage Score: 1.61\n",
      "Episode: 12 (20sec)\tScore: 0.80\tAverage Score: 1.54\n",
      "Episode: 13 (20sec)\tScore: 1.32\tAverage Score: 1.52\n",
      "Episode: 14 (20sec)\tScore: 1.68\tAverage Score: 1.53\n",
      "Episode: 15 (20sec)\tScore: 1.93\tAverage Score: 1.56\n",
      "Episode: 16 (20sec)\tScore: 1.56\tAverage Score: 1.56\n",
      "Episode: 17 (20sec)\tScore: 2.21\tAverage Score: 1.60\n",
      "Episode: 18 (20sec)\tScore: 2.29\tAverage Score: 1.64\n",
      "Episode: 19 (20sec)\tScore: 2.89\tAverage Score: 1.70\n",
      "Episode: 20 (20sec)\tScore: 0.39\tAverage Score: 1.64\n",
      "Episode: 21 (20sec)\tScore: 1.33\tAverage Score: 1.62\n",
      "Episode: 22 (20sec)\tScore: 2.65\tAverage Score: 1.67\n",
      "Episode: 23 (20sec)\tScore: 1.95\tAverage Score: 1.68\n",
      "Episode: 24 (20sec)\tScore: 1.72\tAverage Score: 1.68\n",
      "Episode: 25 (20sec)\tScore: 1.81\tAverage Score: 1.69\n",
      "Episode: 26 (20sec)\tScore: 1.86\tAverage Score: 1.69\n",
      "Episode: 27 (24sec)\tScore: 1.55\tAverage Score: 1.69\n",
      "Episode: 28 (20sec)\tScore: 3.02\tAverage Score: 1.74\n",
      "Episode: 29 (20sec)\tScore: 0.78\tAverage Score: 1.70\n",
      "Episode: 30 (20sec)\tScore: 2.93\tAverage Score: 1.74\n",
      "Episode: 31 (20sec)\tScore: 2.15\tAverage Score: 1.76\n",
      "Episode: 32 (20sec)\tScore: 1.58\tAverage Score: 1.75\n",
      "Episode: 33 (20sec)\tScore: 3.60\tAverage Score: 1.81\n",
      "Episode: 34 (20sec)\tScore: 1.15\tAverage Score: 1.79\n",
      "Episode: 35 (20sec)\tScore: 3.80\tAverage Score: 1.85\n",
      "Episode: 36 (20sec)\tScore: 4.18\tAverage Score: 1.91\n",
      "Episode: 37 (21sec)\tScore: 2.76\tAverage Score: 1.93\n",
      "Episode: 38 (21sec)\tScore: 3.31\tAverage Score: 1.97\n",
      "Episode: 39 (20sec)\tScore: 2.64\tAverage Score: 1.99\n",
      "Episode: 40 (20sec)\tScore: 3.51\tAverage Score: 2.03\n",
      "Episode: 41 (22sec)\tScore: 1.95\tAverage Score: 2.02\n",
      "Episode: 42 (22sec)\tScore: 2.02\tAverage Score: 2.02\n",
      "Episode: 43 (22sec)\tScore: 3.54\tAverage Score: 2.06\n",
      "Episode: 44 (21sec)\tScore: 2.40\tAverage Score: 2.07\n",
      "Episode: 45 (21sec)\tScore: 2.52\tAverage Score: 2.08\n",
      "Episode: 46 (21sec)\tScore: 1.40\tAverage Score: 2.06\n",
      "Episode: 47 (20sec)\tScore: 4.51\tAverage Score: 2.11\n",
      "Episode: 48 (20sec)\tScore: 3.00\tAverage Score: 2.13\n",
      "Episode: 49 (21sec)\tScore: 2.62\tAverage Score: 2.14\n",
      "Episode: 50 (22sec)\tScore: 2.54\tAverage Score: 2.15\n",
      "Episode: 51 (21sec)\tScore: 5.32\tAverage Score: 2.21\n",
      "Episode: 52 (22sec)\tScore: 5.80\tAverage Score: 2.28\n",
      "Episode: 53 (21sec)\tScore: 8.40\tAverage Score: 2.40\n",
      "Episode: 54 (22sec)\tScore: 1.45\tAverage Score: 2.38\n",
      "Episode: 55 (22sec)\tScore: 5.40\tAverage Score: 2.43\n",
      "Episode: 56 (21sec)\tScore: 6.89\tAverage Score: 2.51\n",
      "Episode: 57 (24sec)\tScore: 5.22\tAverage Score: 2.56\n",
      "Episode: 58 (22sec)\tScore: 2.40\tAverage Score: 2.56\n",
      "Episode: 59 (22sec)\tScore: 7.08\tAverage Score: 2.64\n",
      "Episode: 60 (21sec)\tScore: 3.14\tAverage Score: 2.64\n",
      "Episode: 61 (21sec)\tScore: 2.24\tAverage Score: 2.64\n",
      "Episode: 62 (21sec)\tScore: 4.51\tAverage Score: 2.67\n",
      "Episode: 63 (21sec)\tScore: 6.28\tAverage Score: 2.72\n",
      "Episode: 64 (22sec)\tScore: 6.08\tAverage Score: 2.78\n",
      "Episode: 65 (23sec)\tScore: 5.20\tAverage Score: 2.81\n",
      "Episode: 66 (22sec)\tScore: 4.99\tAverage Score: 2.85\n",
      "Episode: 67 (21sec)\tScore: 3.43\tAverage Score: 2.86\n",
      "Episode: 68 (21sec)\tScore: 3.85\tAverage Score: 2.87\n",
      "Episode: 69 (21sec)\tScore: 7.09\tAverage Score: 2.93\n",
      "Episode: 70 (20sec)\tScore: 7.13\tAverage Score: 2.99\n",
      "Episode: 71 (21sec)\tScore: 3.77\tAverage Score: 3.00\n",
      "Episode: 72 (22sec)\tScore: 4.37\tAverage Score: 3.02\n",
      "Episode: 73 (22sec)\tScore: 4.73\tAverage Score: 3.05\n",
      "Episode: 74 (21sec)\tScore: 9.54\tAverage Score: 3.13\n",
      "Episode: 75 (22sec)\tScore: 5.57\tAverage Score: 3.17\n",
      "Episode: 76 (21sec)\tScore: 5.64\tAverage Score: 3.20\n",
      "Episode: 77 (21sec)\tScore: 4.50\tAverage Score: 3.21\n",
      "Episode: 78 (21sec)\tScore: 6.01\tAverage Score: 3.25\n",
      "Episode: 79 (21sec)\tScore: 8.91\tAverage Score: 3.32\n",
      "Episode: 80 (22sec)\tScore: 5.60\tAverage Score: 3.35\n",
      "Episode: 81 (22sec)\tScore: 1.67\tAverage Score: 3.33\n",
      "Episode: 82 (22sec)\tScore: 4.93\tAverage Score: 3.35\n",
      "Episode: 83 (22sec)\tScore: 5.28\tAverage Score: 3.37\n",
      "Episode: 84 (22sec)\tScore: 12.56\tAverage Score: 3.48\n",
      "Episode: 85 (21sec)\tScore: 6.79\tAverage Score: 3.52\n",
      "Episode: 86 (21sec)\tScore: 4.90\tAverage Score: 3.54\n",
      "Episode: 87 (21sec)\tScore: 5.33\tAverage Score: 3.56\n",
      "Episode: 88 (25sec)\tScore: 10.76\tAverage Score: 3.64\n",
      "Episode: 89 (25sec)\tScore: 10.40\tAverage Score: 3.72\n",
      "Episode: 90 (22sec)\tScore: 11.76\tAverage Score: 3.80\n",
      "Episode: 91 (21sec)\tScore: 4.77\tAverage Score: 3.82\n",
      "Episode: 92 (21sec)\tScore: 9.91\tAverage Score: 3.88\n",
      "Episode: 93 (24sec)\tScore: 9.31\tAverage Score: 3.94\n",
      "Episode: 94 (22sec)\tScore: 10.77\tAverage Score: 4.01\n",
      "Episode: 95 (22sec)\tScore: 8.00\tAverage Score: 4.05\n",
      "Episode: 96 (22sec)\tScore: 11.30\tAverage Score: 4.13\n",
      "Episode: 97 (22sec)\tScore: 11.13\tAverage Score: 4.20\n",
      "Episode: 98 (21sec)\tScore: 11.80\tAverage Score: 4.28\n",
      "Episode: 99 (21sec)\tScore: 7.52\tAverage Score: 4.31\n",
      "Episode: 100 (22sec)\tScore: 12.12\tAverage Score: 4.39\n",
      "Episode: 101 (22sec)\tScore: 5.19\tAverage Score: 4.40\n",
      "Episode: 102 (22sec)\tScore: 19.84\tAverage Score: 4.55\n",
      "Episode: 103 (22sec)\tScore: 14.02\tAverage Score: 4.64\n",
      "Episode: 104 (22sec)\tScore: 19.41\tAverage Score: 4.78\n",
      "Episode: 105 (22sec)\tScore: 26.52\tAverage Score: 4.99\n",
      "Episode: 106 (22sec)\tScore: 11.95\tAverage Score: 5.06\n",
      "Episode: 107 (23sec)\tScore: 18.70\tAverage Score: 5.18\n",
      "Episode: 108 (22sec)\tScore: 20.63\tAverage Score: 5.33\n",
      "Episode: 109 (22sec)\tScore: 17.24\tAverage Score: 5.44\n",
      "Episode: 110 (22sec)\tScore: 23.13\tAverage Score: 5.60\n"
     ]
    }
   ],
   "source": [
    "scores, averages = ddpg(n_episodes = 500)"
   ]
  },
  {
   "cell_type": "markdown",
   "metadata": {},
   "source": [
    "### 5. Plot the results\n"
   ]
  },
  {
   "cell_type": "code",
   "execution_count": 30,
   "metadata": {
    "scrolled": true
   },
   "outputs": [
    {
     "data": {
      "image/png": "[encoded data removed]",
      "text/plain": [
       "<Figure size 432x288 with 1 Axes>"
      ]
     },
     "metadata": {
      "needs_background": "light"
     },
     "output_type": "display_data"
    }
   ],
   "source": [
    "fig = plt.figure()\n",
    "ax = fig.add_subplot(111)\n",
    "plt.plot(np.arange(len(scores)), scores, label='scores_DDPG')\n",
    "plt.plot(np.arange(len(scores)), averages,  label='moving avg')\n",
    "plt.ylabel('Score')\n",
    "plt.xlabel('Episode #')\n",
    "plt.legend(loc='upper left')\n",
    "plt.show()\n"
   ]
  },
  {
   "cell_type": "code",
   "execution_count": null,
   "metadata": {},
   "outputs": [],
   "source": [
    "env.close()"
   ]
  }
 ],
 "metadata": {
  "kernelspec": {
   "display_name": "Python 3",
   "language": "python",
   "name": "python3"
  },
  "language_info": {
   "codemirror_mode": {
    "name": "ipython",
    "version": 3
   },
   "file_extension": ".py",
   "mimetype": "text/x-python",
   "name": "python",
   "nbconvert_exporter": "python",
   "pygments_lexer": "ipython3",
   "version": "3.6.10"
  }
 },
 "nbformat": 4,
 "nbformat_minor": 2
}
