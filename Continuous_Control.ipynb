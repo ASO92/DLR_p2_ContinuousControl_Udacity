{
 "cells": [
  {
   "cell_type": "markdown",
   "metadata": {},
   "source": [
    "# Continuous Control\n",
    "\n",
    "---\n",
    "\n",
    "In this notebook, you will learn how to use the Unity ML-Agents environment for the second project of the [Deep Reinforcement Learning Nanodegree](https://www.udacity.com/course/deep-reinforcement-learning-nanodegree--nd893) program.\n",
    "\n",
    "### 1. Start the Environment\n",
    "\n",
    "We begin by importing the necessary packages.  If the code cell below returns an error, please revisit the project instructions to double-check that you have installed [Unity ML-Agents](https://github.com/Unity-Technologies/ml-agents/blob/master/docs/Installation.md) and [NumPy](http://www.numpy.org/)."
   ]
  },
  {
   "cell_type": "code",
   "execution_count": 1,
   "metadata": {},
   "outputs": [],
   "source": [
    "import time\n",
    "from collections import deque\n",
    "\n",
    "from unityagents import UnityEnvironment\n",
    "import numpy as np\n",
    "import torch\n",
    "\n",
    "import matplotlib.pyplot as plt"
   ]
  },
  {
   "cell_type": "markdown",
   "metadata": {},
   "source": [
    "Next, we will start the environment!  **_Before running the code cell below_**, change the `file_name` parameter to match the location of the Unity environment that you downloaded.\n",
    "\n",
    "- **Mac**: `\"path/to/Reacher.app\"`\n",
    "- **Windows** (x86): `\"path/to/Reacher_Windows_x86/Reacher.exe\"`\n",
    "- **Windows** (x86_64): `\"path/to/Reacher_Windows_x86_64/Reacher.exe\"`\n",
    "- **Linux** (x86): `\"path/to/Reacher_Linux/Reacher.x86\"`\n",
    "- **Linux** (x86_64): `\"path/to/Reacher_Linux/Reacher.x86_64\"`\n",
    "- **Linux** (x86, headless): `\"path/to/Reacher_Linux_NoVis/Reacher.x86\"`\n",
    "- **Linux** (x86_64, headless): `\"path/to/Reacher_Linux_NoVis/Reacher.x86_64\"`\n",
    "\n",
    "For instance, if you are using a Mac, then you downloaded `Reacher.app`.  If this file is in the same folder as the notebook, then the line below should appear as follows:\n",
    "```\n",
    "env = UnityEnvironment(file_name=\"Reacher.app\")\n",
    "```"
   ]
  },
  {
   "cell_type": "code",
   "execution_count": 2,
   "metadata": {
    "scrolled": true
   },
   "outputs": [
    {
     "name": "stderr",
     "output_type": "stream",
     "text": [
      "INFO:unityagents:\n",
      "'Academy' started successfully!\n",
      "Unity Academy name: Academy\n",
      "        Number of Brains: 1\n",
      "        Number of External Brains : 1\n",
      "        Lesson number : 0\n",
      "        Reset Parameters :\n",
      "\t\tgoal_speed -> 1.0\n",
      "\t\tgoal_size -> 5.0\n",
      "Unity brain name: ReacherBrain\n",
      "        Number of Visual Observations (per agent): 0\n",
      "        Vector Observation space type: continuous\n",
      "        Vector Observation space size (per agent): 33\n",
      "        Number of stacked Vector Observation: 1\n",
      "        Vector Action space type: continuous\n",
      "        Vector Action space size (per agent): 4\n",
      "        Vector Action descriptions: , , , \n"
     ]
    }
   ],
   "source": [
    "env = UnityEnvironment(file_name='C:/Users/rovaa/deep-reinforcement-learning/p2_continuous-control/Reacher_Windows_x86_64/Reacher.exe')\n",
    "#env = UnityEnvironment(file_name=\"C:/Users/rovaa/deep-reinforcement-learning/p1_navigation/Banana_Windows_x86_64/Banana.exe\")"
   ]
  },
  {
   "cell_type": "markdown",
   "metadata": {},
   "source": [
    "Environments contain **_brains_** which are responsible for deciding the actions of their associated agents. Here we check for the first brain available, and set it as the default brain we will be controlling from Python."
   ]
  },
  {
   "cell_type": "code",
   "execution_count": 3,
   "metadata": {},
   "outputs": [],
   "source": [
    "# get the default brain\n",
    "brain_name = env.brain_names[0]\n",
    "brain = env.brains[brain_name]"
   ]
  },
  {
   "cell_type": "markdown",
   "metadata": {},
   "source": [
    "### 2. Examine the State and Action Spaces\n",
    "\n",
    "In this environment, a double-jointed arm can move to target locations. A reward of `+0.1` is provided for each step that the agent's hand is in the goal location. Thus, the goal of your agent is to maintain its position at the target location for as many time steps as possible.\n",
    "\n",
    "The observation space consists of `33` variables corresponding to position, rotation, velocity, and angular velocities of the arm.  Each action is a vector with four numbers, corresponding to torque applicable to two joints.  Every entry in the action vector must be a number between `-1` and `1`.\n",
    "\n",
    "Run the code cell below to print some information about the environment."
   ]
  },
  {
   "cell_type": "code",
   "execution_count": 5,
   "metadata": {},
   "outputs": [
    {
     "name": "stdout",
     "output_type": "stream",
     "text": [
      "Number of agents: 1\n",
      "Size of each action: 4\n",
      "There are 1 agents. Each observes a state with length: 33\n",
      "The state for the first agent looks like: [ 0.00000000e+00 -4.00000000e+00  0.00000000e+00  1.00000000e+00\n",
      " -0.00000000e+00 -0.00000000e+00 -4.37113883e-08  0.00000000e+00\n",
      "  0.00000000e+00  0.00000000e+00  0.00000000e+00  0.00000000e+00\n",
      "  0.00000000e+00  0.00000000e+00 -1.00000000e+01  0.00000000e+00\n",
      "  1.00000000e+00 -0.00000000e+00 -0.00000000e+00 -4.37113883e-08\n",
      "  0.00000000e+00  0.00000000e+00  0.00000000e+00  0.00000000e+00\n",
      "  0.00000000e+00  0.00000000e+00 -6.30408478e+00 -1.00000000e+00\n",
      " -4.92529202e+00  0.00000000e+00  1.00000000e+00  0.00000000e+00\n",
      " -5.33014059e-01]\n"
     ]
    }
   ],
   "source": [
    "# reset the environment\n",
    "env_info = env.reset(train_mode=True)[brain_name]\n",
    "\n",
    "# number of agents\n",
    "num_agents = len(env_info.agents)\n",
    "print('Number of agents:', num_agents)\n",
    "\n",
    "# size of each action\n",
    "action_size = brain.vector_action_space_size\n",
    "print('Size of each action:', action_size)\n",
    "\n",
    "# examine the state space \n",
    "states = env_info.vector_observations\n",
    "state_size = states.shape[1]\n",
    "print('There are {} agents. Each observes a state with length: {}'.format(states.shape[0], state_size))\n",
    "print('The state for the first agent looks like:', states[0])"
   ]
  },
  {
   "cell_type": "markdown",
   "metadata": {},
   "source": [
    "### 3. Take Random Actions in the Environment\n",
    "\n",
    "In the next code cell, you will learn how to use the Python API to control the agent and receive feedback from the environment.\n",
    "\n",
    "Once this cell is executed, you will watch the agent's performance, if it selects an action at random with each time step.  A window should pop up that allows you to observe the agent, as it moves through the environment.  \n",
    "\n",
    "Of course, as part of the project, you'll have to change the code so that the agent is able to use its experience to gradually choose better actions when interacting with the environment!"
   ]
  },
  {
   "cell_type": "code",
   "execution_count": null,
   "metadata": {},
   "outputs": [],
   "source": [
    "env_info = env.reset(train_mode=False)[brain_name]     # reset the environment    \n",
    "states = env_info.vector_observations                  # get the current state (for each agent)\n",
    "scores = np.zeros(num_agents)                          # initialize the score (for each agent)\n",
    "while True:\n",
    "    actions = np.random.randn(num_agents, action_size) # select an action (for each agent)\n",
    "    actions = np.clip(actions, -1, 1)                  # all actions between -1 and 1\n",
    "    env_info = env.step(actions)[brain_name]           # send all actions to tne environment\n",
    "    next_states = env_info.vector_observations         # get next state (for each agent)\n",
    "    rewards = env_info.rewards                         # get reward (for each agent)\n",
    "    dones = env_info.local_done                        # see if episode finished\n",
    "    scores += env_info.rewards                         # update the score (for each agent)\n",
    "    states = next_states                               # roll over states to next time step\n",
    "    if np.any(dones):                                  # exit loop if episode finished\n",
    "        break\n",
    "print('Total score (averaged over agents) this episode: {}'.format(np.mean(scores)))"
   ]
  },
  {
   "cell_type": "markdown",
   "metadata": {},
   "source": [
    "When finished, you can close the environment."
   ]
  },
  {
   "cell_type": "code",
   "execution_count": null,
   "metadata": {},
   "outputs": [],
   "source": [
    "env.close()"
   ]
  },
  {
   "cell_type": "markdown",
   "metadata": {},
   "source": [
    "### 4. It's Your Turn!\n",
    "\n",
    "Now it's your turn to train your own agent to solve the environment!  When training the environment, set `train_mode=True`, so that the line for resetting the environment looks like the following:\n",
    "```python\n",
    "env_info = env.reset(train_mode=True)[brain_name]\n",
    "```"
   ]
  },
  {
   "cell_type": "markdown",
   "metadata": {},
   "source": [
    "#### 4.1 Import and instantiate the agent \n",
    "In the following cell of code the agent is imported by `ddpg_agent` and it it instantiated. "
   ]
  },
  {
   "cell_type": "code",
   "execution_count": 6,
   "metadata": {},
   "outputs": [],
   "source": [
    "import ddpg_agent\n",
    "import torch.optim as optim\n",
    "import importlib\n",
    "import time\n",
    "\n",
    "importlib.reload(ddpg_agent)\n",
    "\n",
    "agent = ddpg_agent.Agent(state_size=state_size, action_size=action_size, random_seed = 10)"
   ]
  },
  {
   "cell_type": "markdown",
   "metadata": {},
   "source": [
    "#### 4.2 Test de agent"
   ]
  },
  {
   "cell_type": "code",
   "execution_count": null,
   "metadata": {},
   "outputs": [],
   "source": [
    "# An untrained agent\n",
    "\n",
    "device = torch.device(\"cuda:0\" if torch.cuda.is_available() else \"cpu\")\n",
    "\n",
    "env_info = env.reset(train_mode=False)[brain_name] # reset the environment\n",
    "state = env_info.vector_observations[0]            # get the current state\n",
    "score = 0                                          # initialize the score\n",
    "\n",
    "for j in range(100):\n",
    "    actions = agent.act(state)                # select an action\n",
    "    env_info = env.step(actions)[brain_name]  # send the action to the environment\n",
    "    next_state = env_info.vector_observations[0]   # get the next state\n",
    "    reward = env_info.rewards[0]                   # get the reward\n",
    "    done = env_info.local_done[0]                  # see if episode has finished\n",
    "    score += reward                                # update the score\n",
    "    state = next_state                             # roll over the state to next time step\n",
    "    if done:                                       # exit loop if episode finished\n",
    "        break\n",
    "\n",
    "print(\"Score: {}\".format(score))"
   ]
  },
  {
   "cell_type": "markdown",
   "metadata": {},
   "source": [
    "#### 4.3 Define the DDPG training function and train an agent"
   ]
  },
  {
   "cell_type": "code",
   "execution_count": 7,
   "metadata": {},
   "outputs": [],
   "source": [
    "def ddpg(n_episodes=1000, max_t=10000, print_every=1, save_every=100, ckp_critic='checkpoint_critic.pth',ckp_actor = 'checkpoint_actor.pth'):\n",
    "    \n",
    "    \"\"\"DDQN Algorithm.\n",
    "    \n",
    "    Params\n",
    "    ======\n",
    "        n_episodes (int): maximum number of training episodes\n",
    "        max_t (int): maximum number of timesteps per episode\n",
    "        print_every (int): frequency of printing information throughout iteration \n",
    "        save_every (int): number of episodes to save actor-critic weights\n",
    "        ckp_critic (str): path to save weights of critic NN\n",
    "        ckp_actor(str): path to save weights of actor NN\n",
    "        \"\"\"\n",
    "        \n",
    "    \n",
    "    scores = []\n",
    "    movAverages = []\n",
    "    averages = []\n",
    "    scores_deque = deque(maxlen=100) # The goal to solve the environment is obtain a moving average over of 30, over the last 100 episodes\n",
    "    \n",
    "    for i_episode in range(1, n_episodes+1):\n",
    "        env_info = env.reset(train_mode=True)[brain_name]\n",
    "        agent.reset()\n",
    "        state = env_info.vector_observations[0]            # get the current state\n",
    "        score = 0\n",
    "        start_time = time.time()\n",
    "        for t in range(max_t):\n",
    "            action = agent.act(state)          # select an action\n",
    "       \n",
    "            env_info = env.step(action)[brain_name]        # send the action to the environment\n",
    "            next_state = env_info.vector_observations[0]   # get the next state\n",
    "            reward = env_info.rewards[0]                   # get the reward\n",
    "            done = env_info.local_done[0]                  # see if episode has finished\n",
    "            agent.step(state, action, reward, next_state, done) # take step with agent (including learning)\n",
    "            score += reward                                # update the score\n",
    "            state = next_state                             # roll over the state to next time step\n",
    "            if done:                                       # exit loop if episode finished\n",
    "                break\n",
    "        \n",
    "        duration = time.time() - start_time\n",
    "        scores_deque.append(score)       # save most recent score on the scores deque (lenght = 100)\n",
    "        scores.append(score)             # save most recent score\n",
    "        movAverages.append(np.mean(scores_deque))  # save mean of scores of the last 100 episodes\n",
    "        averages.append(np.mean(scores))  # save mean of scores\n",
    "\n",
    "        #print('\\rEpisode {}\\tAverage Score: {:.2f}'.format(i_episode, np.mean(scores_deque)), end=\"\")\n",
    "        \n",
    "        if i_episode % print_every == 0:\n",
    "            print('\\rEpisode: {} ({}sec)\\tScore: {:.2f}\\tMovAverage(100): {:.2f} \\tFullAverage: {:.2f}'.format(i_episode, round(duration), score,np.mean(scores_deque), np.mean(scores)))\n",
    "            \n",
    "        if i_episode % save_every == 0:\n",
    "            torch.save(agent.actor_local.state_dict(), ckp_actor)\n",
    "            torch.save(agent.critic_local.state_dict(), ckp_critic)\n",
    "        if np.mean(scores_deque)>=30.0:\n",
    "            print('\\nEnvironment solved in {:d} episodes!\\tAverage Score: {:.2f}'.format(i_episode, np.mean(scores_deque)))\n",
    "            torch.save(agent.actor_local.state_dict(), ckp_actor)\n",
    "            torch.save(agent.critic_local.state_dict(), ckp_critic)\n",
    "            break\n",
    "            \n",
    "    return scores, movAverages, averages "
   ]
  },
  {
   "cell_type": "markdown",
   "metadata": {},
   "source": [
    "Train the agent for a number of episodes: `n_episodes`"
   ]
  },
  {
   "cell_type": "code",
   "execution_count": 8,
   "metadata": {},
   "outputs": [
    {
     "name": "stdout",
     "output_type": "stream",
     "text": [
      "Episode: 1 (15sec)\tScore: 0.02\tMovAverage(100): 0.02 \tFullAverage: 0.02\n",
      "Episode: 2 (19sec)\tScore: 0.65\tMovAverage(100): 0.33 \tFullAverage: 0.33\n",
      "Episode: 3 (20sec)\tScore: 0.16\tMovAverage(100): 0.28 \tFullAverage: 0.28\n",
      "Episode: 4 (20sec)\tScore: 0.82\tMovAverage(100): 0.41 \tFullAverage: 0.41\n",
      "Episode: 5 (20sec)\tScore: 0.68\tMovAverage(100): 0.47 \tFullAverage: 0.47\n",
      "Episode: 6 (20sec)\tScore: 0.98\tMovAverage(100): 0.55 \tFullAverage: 0.55\n",
      "Episode: 7 (20sec)\tScore: 0.96\tMovAverage(100): 0.61 \tFullAverage: 0.61\n",
      "Episode: 8 (20sec)\tScore: 0.08\tMovAverage(100): 0.54 \tFullAverage: 0.54\n",
      "Episode: 9 (20sec)\tScore: 0.00\tMovAverage(100): 0.48 \tFullAverage: 0.48\n",
      "Episode: 10 (20sec)\tScore: 0.49\tMovAverage(100): 0.48 \tFullAverage: 0.48\n",
      "Episode: 11 (20sec)\tScore: 0.58\tMovAverage(100): 0.49 \tFullAverage: 0.49\n",
      "Episode: 12 (20sec)\tScore: 0.45\tMovAverage(100): 0.49 \tFullAverage: 0.49\n",
      "Episode: 13 (20sec)\tScore: 1.49\tMovAverage(100): 0.57 \tFullAverage: 0.57\n",
      "Episode: 14 (21sec)\tScore: 1.15\tMovAverage(100): 0.61 \tFullAverage: 0.61\n",
      "Episode: 15 (20sec)\tScore: 0.65\tMovAverage(100): 0.61 \tFullAverage: 0.61\n",
      "Episode: 16 (20sec)\tScore: 0.08\tMovAverage(100): 0.58 \tFullAverage: 0.58\n",
      "Episode: 17 (20sec)\tScore: 0.39\tMovAverage(100): 0.57 \tFullAverage: 0.57\n",
      "Episode: 18 (20sec)\tScore: 0.38\tMovAverage(100): 0.56 \tFullAverage: 0.56\n",
      "Episode: 19 (20sec)\tScore: 0.85\tMovAverage(100): 0.57 \tFullAverage: 0.57\n",
      "Episode: 20 (20sec)\tScore: 1.64\tMovAverage(100): 0.62 \tFullAverage: 0.62\n",
      "Episode: 21 (20sec)\tScore: 1.02\tMovAverage(100): 0.64 \tFullAverage: 0.64\n",
      "Episode: 22 (20sec)\tScore: 2.43\tMovAverage(100): 0.72 \tFullAverage: 0.72\n",
      "Episode: 23 (20sec)\tScore: 3.37\tMovAverage(100): 0.84 \tFullAverage: 0.84\n",
      "Episode: 24 (20sec)\tScore: 0.84\tMovAverage(100): 0.84 \tFullAverage: 0.84\n",
      "Episode: 25 (20sec)\tScore: 3.67\tMovAverage(100): 0.95 \tFullAverage: 0.95\n",
      "Episode: 26 (20sec)\tScore: 4.48\tMovAverage(100): 1.09 \tFullAverage: 1.09\n",
      "Episode: 27 (20sec)\tScore: 2.61\tMovAverage(100): 1.15 \tFullAverage: 1.15\n",
      "Episode: 28 (20sec)\tScore: 2.84\tMovAverage(100): 1.21 \tFullAverage: 1.21\n",
      "Episode: 29 (20sec)\tScore: 1.26\tMovAverage(100): 1.21 \tFullAverage: 1.21\n",
      "Episode: 30 (20sec)\tScore: 4.22\tMovAverage(100): 1.31 \tFullAverage: 1.31\n",
      "Episode: 31 (20sec)\tScore: 8.14\tMovAverage(100): 1.53 \tFullAverage: 1.53\n",
      "Episode: 32 (20sec)\tScore: 1.89\tMovAverage(100): 1.54 \tFullAverage: 1.54\n",
      "Episode: 33 (22sec)\tScore: 5.30\tMovAverage(100): 1.65 \tFullAverage: 1.65\n",
      "Episode: 34 (20sec)\tScore: 4.12\tMovAverage(100): 1.73 \tFullAverage: 1.73\n",
      "Episode: 35 (20sec)\tScore: 1.96\tMovAverage(100): 1.73 \tFullAverage: 1.73\n",
      "Episode: 36 (20sec)\tScore: 3.96\tMovAverage(100): 1.79 \tFullAverage: 1.79\n",
      "Episode: 37 (20sec)\tScore: 3.24\tMovAverage(100): 1.83 \tFullAverage: 1.83\n",
      "Episode: 38 (20sec)\tScore: 2.38\tMovAverage(100): 1.85 \tFullAverage: 1.85\n",
      "Episode: 39 (20sec)\tScore: 4.32\tMovAverage(100): 1.91 \tFullAverage: 1.91\n",
      "Episode: 40 (20sec)\tScore: 3.60\tMovAverage(100): 1.95 \tFullAverage: 1.95\n",
      "Episode: 41 (20sec)\tScore: 11.27\tMovAverage(100): 2.18 \tFullAverage: 2.18\n",
      "Episode: 42 (20sec)\tScore: 5.42\tMovAverage(100): 2.26 \tFullAverage: 2.26\n",
      "Episode: 43 (20sec)\tScore: 4.03\tMovAverage(100): 2.30 \tFullAverage: 2.30\n",
      "Episode: 44 (20sec)\tScore: 19.18\tMovAverage(100): 2.68 \tFullAverage: 2.68\n",
      "Episode: 45 (20sec)\tScore: 2.90\tMovAverage(100): 2.69 \tFullAverage: 2.69\n",
      "Episode: 46 (20sec)\tScore: 6.92\tMovAverage(100): 2.78 \tFullAverage: 2.78\n",
      "Episode: 47 (20sec)\tScore: 5.84\tMovAverage(100): 2.84 \tFullAverage: 2.84\n",
      "Episode: 48 (20sec)\tScore: 2.92\tMovAverage(100): 2.85 \tFullAverage: 2.85\n",
      "Episode: 49 (20sec)\tScore: 6.07\tMovAverage(100): 2.91 \tFullAverage: 2.91\n",
      "Episode: 50 (20sec)\tScore: 5.42\tMovAverage(100): 2.96 \tFullAverage: 2.96\n",
      "Episode: 51 (20sec)\tScore: 7.24\tMovAverage(100): 3.05 \tFullAverage: 3.05\n",
      "Episode: 52 (20sec)\tScore: 8.77\tMovAverage(100): 3.16 \tFullAverage: 3.16\n",
      "Episode: 53 (20sec)\tScore: 11.86\tMovAverage(100): 3.32 \tFullAverage: 3.32\n",
      "Episode: 54 (20sec)\tScore: 7.22\tMovAverage(100): 3.39 \tFullAverage: 3.39\n",
      "Episode: 55 (20sec)\tScore: 11.84\tMovAverage(100): 3.55 \tFullAverage: 3.55\n",
      "Episode: 56 (20sec)\tScore: 5.69\tMovAverage(100): 3.58 \tFullAverage: 3.58\n",
      "Episode: 57 (20sec)\tScore: 5.30\tMovAverage(100): 3.61 \tFullAverage: 3.61\n",
      "Episode: 58 (20sec)\tScore: 9.26\tMovAverage(100): 3.71 \tFullAverage: 3.71\n",
      "Episode: 59 (20sec)\tScore: 6.53\tMovAverage(100): 3.76 \tFullAverage: 3.76\n",
      "Episode: 60 (20sec)\tScore: 9.62\tMovAverage(100): 3.86 \tFullAverage: 3.86\n",
      "Episode: 61 (20sec)\tScore: 5.40\tMovAverage(100): 3.88 \tFullAverage: 3.88\n",
      "Episode: 62 (20sec)\tScore: 6.70\tMovAverage(100): 3.93 \tFullAverage: 3.93\n",
      "Episode: 63 (22sec)\tScore: 13.08\tMovAverage(100): 4.07 \tFullAverage: 4.07\n",
      "Episode: 64 (20sec)\tScore: 13.72\tMovAverage(100): 4.22 \tFullAverage: 4.22\n",
      "Episode: 65 (20sec)\tScore: 13.90\tMovAverage(100): 4.37 \tFullAverage: 4.37\n",
      "Episode: 66 (20sec)\tScore: 9.12\tMovAverage(100): 4.44 \tFullAverage: 4.44\n",
      "Episode: 67 (20sec)\tScore: 12.85\tMovAverage(100): 4.57 \tFullAverage: 4.57\n",
      "Episode: 68 (20sec)\tScore: 8.14\tMovAverage(100): 4.62 \tFullAverage: 4.62\n",
      "Episode: 69 (20sec)\tScore: 3.86\tMovAverage(100): 4.61 \tFullAverage: 4.61\n",
      "Episode: 70 (20sec)\tScore: 9.90\tMovAverage(100): 4.69 \tFullAverage: 4.69\n",
      "Episode: 71 (20sec)\tScore: 7.84\tMovAverage(100): 4.73 \tFullAverage: 4.73\n",
      "Episode: 72 (20sec)\tScore: 9.66\tMovAverage(100): 4.80 \tFullAverage: 4.80\n",
      "Episode: 73 (20sec)\tScore: 5.91\tMovAverage(100): 4.82 \tFullAverage: 4.82\n",
      "Episode: 74 (20sec)\tScore: 5.54\tMovAverage(100): 4.83 \tFullAverage: 4.83\n",
      "Episode: 75 (20sec)\tScore: 4.72\tMovAverage(100): 4.82 \tFullAverage: 4.82\n",
      "Episode: 76 (20sec)\tScore: 13.55\tMovAverage(100): 4.94 \tFullAverage: 4.94\n",
      "Episode: 77 (20sec)\tScore: 12.04\tMovAverage(100): 5.03 \tFullAverage: 5.03\n",
      "Episode: 78 (20sec)\tScore: 7.34\tMovAverage(100): 5.06 \tFullAverage: 5.06\n",
      "Episode: 79 (20sec)\tScore: 13.30\tMovAverage(100): 5.16 \tFullAverage: 5.16\n",
      "Episode: 80 (20sec)\tScore: 16.55\tMovAverage(100): 5.31 \tFullAverage: 5.31\n",
      "Episode: 81 (20sec)\tScore: 12.54\tMovAverage(100): 5.40 \tFullAverage: 5.40\n",
      "Episode: 82 (20sec)\tScore: 13.56\tMovAverage(100): 5.50 \tFullAverage: 5.50\n",
      "Episode: 83 (20sec)\tScore: 11.88\tMovAverage(100): 5.57 \tFullAverage: 5.57\n",
      "Episode: 84 (20sec)\tScore: 13.34\tMovAverage(100): 5.67 \tFullAverage: 5.67\n",
      "Episode: 85 (20sec)\tScore: 17.64\tMovAverage(100): 5.81 \tFullAverage: 5.81\n",
      "Episode: 86 (20sec)\tScore: 20.83\tMovAverage(100): 5.98 \tFullAverage: 5.98\n",
      "Episode: 87 (20sec)\tScore: 23.34\tMovAverage(100): 6.18 \tFullAverage: 6.18\n",
      "Episode: 88 (20sec)\tScore: 18.34\tMovAverage(100): 6.32 \tFullAverage: 6.32\n",
      "Episode: 89 (20sec)\tScore: 13.63\tMovAverage(100): 6.40 \tFullAverage: 6.40\n",
      "Episode: 90 (20sec)\tScore: 12.13\tMovAverage(100): 6.46 \tFullAverage: 6.46\n",
      "Episode: 91 (20sec)\tScore: 21.83\tMovAverage(100): 6.63 \tFullAverage: 6.63\n",
      "Episode: 92 (21sec)\tScore: 10.30\tMovAverage(100): 6.67 \tFullAverage: 6.67\n",
      "Episode: 93 (21sec)\tScore: 18.94\tMovAverage(100): 6.81 \tFullAverage: 6.81\n",
      "Episode: 94 (21sec)\tScore: 18.18\tMovAverage(100): 6.93 \tFullAverage: 6.93\n",
      "Episode: 95 (20sec)\tScore: 10.90\tMovAverage(100): 6.97 \tFullAverage: 6.97\n",
      "Episode: 96 (20sec)\tScore: 12.28\tMovAverage(100): 7.02 \tFullAverage: 7.02\n",
      "Episode: 97 (20sec)\tScore: 13.44\tMovAverage(100): 7.09 \tFullAverage: 7.09\n",
      "Episode: 98 (20sec)\tScore: 10.74\tMovAverage(100): 7.13 \tFullAverage: 7.13\n",
      "Episode: 99 (20sec)\tScore: 11.97\tMovAverage(100): 7.18 \tFullAverage: 7.18\n",
      "Episode: 100 (20sec)\tScore: 7.16\tMovAverage(100): 7.18 \tFullAverage: 7.18\n",
      "Episode: 101 (21sec)\tScore: 14.32\tMovAverage(100): 7.32 \tFullAverage: 7.25\n",
      "Episode: 102 (20sec)\tScore: 8.52\tMovAverage(100): 7.40 \tFullAverage: 7.26\n",
      "Episode: 103 (20sec)\tScore: 12.22\tMovAverage(100): 7.52 \tFullAverage: 7.31\n",
      "Episode: 104 (21sec)\tScore: 12.39\tMovAverage(100): 7.63 \tFullAverage: 7.36\n",
      "Episode: 105 (20sec)\tScore: 5.58\tMovAverage(100): 7.68 \tFullAverage: 7.34\n",
      "Episode: 106 (20sec)\tScore: 10.73\tMovAverage(100): 7.78 \tFullAverage: 7.37\n",
      "Episode: 107 (21sec)\tScore: 19.25\tMovAverage(100): 7.96 \tFullAverage: 7.48\n",
      "Episode: 108 (21sec)\tScore: 9.48\tMovAverage(100): 8.06 \tFullAverage: 7.50\n",
      "Episode: 109 (20sec)\tScore: 17.55\tMovAverage(100): 8.23 \tFullAverage: 7.59\n",
      "Episode: 110 (20sec)\tScore: 20.01\tMovAverage(100): 8.43 \tFullAverage: 7.71\n",
      "Episode: 111 (20sec)\tScore: 23.59\tMovAverage(100): 8.66 \tFullAverage: 7.85\n",
      "Episode: 112 (20sec)\tScore: 12.33\tMovAverage(100): 8.78 \tFullAverage: 7.89\n"
     ]
    },
    {
     "name": "stdout",
     "output_type": "stream",
     "text": [
      "Episode: 113 (20sec)\tScore: 11.98\tMovAverage(100): 8.88 \tFullAverage: 7.92\n",
      "Episode: 114 (20sec)\tScore: 17.08\tMovAverage(100): 9.04 \tFullAverage: 8.00\n",
      "Episode: 115 (21sec)\tScore: 22.81\tMovAverage(100): 9.26 \tFullAverage: 8.13\n",
      "Episode: 116 (21sec)\tScore: 22.52\tMovAverage(100): 9.49 \tFullAverage: 8.26\n",
      "Episode: 117 (21sec)\tScore: 18.51\tMovAverage(100): 9.67 \tFullAverage: 8.35\n",
      "Episode: 118 (20sec)\tScore: 18.10\tMovAverage(100): 9.84 \tFullAverage: 8.43\n",
      "Episode: 119 (21sec)\tScore: 15.89\tMovAverage(100): 10.00 \tFullAverage: 8.49\n",
      "Episode: 120 (21sec)\tScore: 22.44\tMovAverage(100): 10.20 \tFullAverage: 8.61\n",
      "Episode: 121 (21sec)\tScore: 27.00\tMovAverage(100): 10.46 \tFullAverage: 8.76\n",
      "Episode: 122 (22sec)\tScore: 23.23\tMovAverage(100): 10.67 \tFullAverage: 8.88\n",
      "Episode: 123 (20sec)\tScore: 17.11\tMovAverage(100): 10.81 \tFullAverage: 8.94\n",
      "Episode: 124 (20sec)\tScore: 29.69\tMovAverage(100): 11.10 \tFullAverage: 9.11\n",
      "Episode: 125 (21sec)\tScore: 22.05\tMovAverage(100): 11.28 \tFullAverage: 9.22\n",
      "Episode: 126 (20sec)\tScore: 21.34\tMovAverage(100): 11.45 \tFullAverage: 9.31\n",
      "Episode: 127 (21sec)\tScore: 14.85\tMovAverage(100): 11.57 \tFullAverage: 9.36\n",
      "Episode: 128 (21sec)\tScore: 39.57\tMovAverage(100): 11.94 \tFullAverage: 9.59\n",
      "Episode: 129 (21sec)\tScore: 15.72\tMovAverage(100): 12.08 \tFullAverage: 9.64\n",
      "Episode: 130 (21sec)\tScore: 21.90\tMovAverage(100): 12.26 \tFullAverage: 9.73\n",
      "Episode: 131 (20sec)\tScore: 27.03\tMovAverage(100): 12.45 \tFullAverage: 9.87\n",
      "Episode: 132 (20sec)\tScore: 20.60\tMovAverage(100): 12.64 \tFullAverage: 9.95\n",
      "Episode: 133 (20sec)\tScore: 23.68\tMovAverage(100): 12.82 \tFullAverage: 10.05\n",
      "Episode: 134 (19sec)\tScore: 20.03\tMovAverage(100): 12.98 \tFullAverage: 10.12\n",
      "Episode: 135 (19sec)\tScore: 30.04\tMovAverage(100): 13.26 \tFullAverage: 10.27\n",
      "Episode: 136 (19sec)\tScore: 17.72\tMovAverage(100): 13.40 \tFullAverage: 10.33\n",
      "Episode: 137 (19sec)\tScore: 21.65\tMovAverage(100): 13.58 \tFullAverage: 10.41\n",
      "Episode: 138 (19sec)\tScore: 30.61\tMovAverage(100): 13.86 \tFullAverage: 10.56\n",
      "Episode: 139 (19sec)\tScore: 29.16\tMovAverage(100): 14.11 \tFullAverage: 10.69\n",
      "Episode: 140 (19sec)\tScore: 19.18\tMovAverage(100): 14.27 \tFullAverage: 10.75\n",
      "Episode: 141 (19sec)\tScore: 24.03\tMovAverage(100): 14.40 \tFullAverage: 10.84\n",
      "Episode: 142 (19sec)\tScore: 14.79\tMovAverage(100): 14.49 \tFullAverage: 10.87\n",
      "Episode: 143 (19sec)\tScore: 32.92\tMovAverage(100): 14.78 \tFullAverage: 11.03\n",
      "Episode: 144 (19sec)\tScore: 27.55\tMovAverage(100): 14.86 \tFullAverage: 11.14\n",
      "Episode: 145 (19sec)\tScore: 35.03\tMovAverage(100): 15.18 \tFullAverage: 11.31\n",
      "Episode: 146 (19sec)\tScore: 23.31\tMovAverage(100): 15.35 \tFullAverage: 11.39\n",
      "Episode: 147 (19sec)\tScore: 28.66\tMovAverage(100): 15.58 \tFullAverage: 11.51\n",
      "Episode: 148 (19sec)\tScore: 10.18\tMovAverage(100): 15.65 \tFullAverage: 11.50\n",
      "Episode: 149 (19sec)\tScore: 35.87\tMovAverage(100): 15.95 \tFullAverage: 11.66\n",
      "Episode: 150 (19sec)\tScore: 28.29\tMovAverage(100): 16.18 \tFullAverage: 11.77\n",
      "Episode: 151 (19sec)\tScore: 27.84\tMovAverage(100): 16.38 \tFullAverage: 11.88\n",
      "Episode: 152 (20sec)\tScore: 25.01\tMovAverage(100): 16.54 \tFullAverage: 11.96\n",
      "Episode: 153 (19sec)\tScore: 23.78\tMovAverage(100): 16.66 \tFullAverage: 12.04\n",
      "Episode: 154 (19sec)\tScore: 30.97\tMovAverage(100): 16.90 \tFullAverage: 12.16\n",
      "Episode: 155 (19sec)\tScore: 36.27\tMovAverage(100): 17.14 \tFullAverage: 12.32\n",
      "Episode: 156 (19sec)\tScore: 24.65\tMovAverage(100): 17.33 \tFullAverage: 12.40\n",
      "Episode: 157 (19sec)\tScore: 26.22\tMovAverage(100): 17.54 \tFullAverage: 12.49\n",
      "Episode: 158 (19sec)\tScore: 22.39\tMovAverage(100): 17.67 \tFullAverage: 12.55\n",
      "Episode: 159 (19sec)\tScore: 24.40\tMovAverage(100): 17.85 \tFullAverage: 12.62\n",
      "Episode: 160 (21sec)\tScore: 34.30\tMovAverage(100): 18.10 \tFullAverage: 12.76\n",
      "Episode: 161 (22sec)\tScore: 36.05\tMovAverage(100): 18.41 \tFullAverage: 12.90\n",
      "Episode: 162 (20sec)\tScore: 23.69\tMovAverage(100): 18.58 \tFullAverage: 12.97\n",
      "Episode: 163 (20sec)\tScore: 26.14\tMovAverage(100): 18.71 \tFullAverage: 13.05\n",
      "Episode: 164 (20sec)\tScore: 39.38\tMovAverage(100): 18.96 \tFullAverage: 13.21\n",
      "Episode: 165 (20sec)\tScore: 26.58\tMovAverage(100): 19.09 \tFullAverage: 13.29\n",
      "Episode: 166 (20sec)\tScore: 22.19\tMovAverage(100): 19.22 \tFullAverage: 13.35\n",
      "Episode: 167 (21sec)\tScore: 37.34\tMovAverage(100): 19.47 \tFullAverage: 13.49\n",
      "Episode: 168 (20sec)\tScore: 36.79\tMovAverage(100): 19.75 \tFullAverage: 13.63\n",
      "Episode: 169 (19sec)\tScore: 38.11\tMovAverage(100): 20.10 \tFullAverage: 13.77\n",
      "Episode: 170 (19sec)\tScore: 21.39\tMovAverage(100): 20.21 \tFullAverage: 13.82\n",
      "Episode: 171 (19sec)\tScore: 14.28\tMovAverage(100): 20.27 \tFullAverage: 13.82\n",
      "Episode: 172 (19sec)\tScore: 32.05\tMovAverage(100): 20.50 \tFullAverage: 13.93\n",
      "Episode: 173 (19sec)\tScore: 37.82\tMovAverage(100): 20.82 \tFullAverage: 14.07\n",
      "Episode: 174 (19sec)\tScore: 33.87\tMovAverage(100): 21.10 \tFullAverage: 14.18\n",
      "Episode: 175 (19sec)\tScore: 31.38\tMovAverage(100): 21.37 \tFullAverage: 14.28\n",
      "Episode: 176 (19sec)\tScore: 26.61\tMovAverage(100): 21.50 \tFullAverage: 14.35\n",
      "Episode: 177 (19sec)\tScore: 35.97\tMovAverage(100): 21.74 \tFullAverage: 14.47\n",
      "Episode: 178 (19sec)\tScore: 38.86\tMovAverage(100): 22.05 \tFullAverage: 14.61\n",
      "Episode: 179 (19sec)\tScore: 38.01\tMovAverage(100): 22.30 \tFullAverage: 14.74\n",
      "Episode: 180 (19sec)\tScore: 31.44\tMovAverage(100): 22.45 \tFullAverage: 14.83\n",
      "Episode: 181 (19sec)\tScore: 33.86\tMovAverage(100): 22.66 \tFullAverage: 14.94\n",
      "Episode: 182 (19sec)\tScore: 32.85\tMovAverage(100): 22.85 \tFullAverage: 15.03\n",
      "Episode: 183 (21sec)\tScore: 36.63\tMovAverage(100): 23.10 \tFullAverage: 15.15\n",
      "Episode: 184 (19sec)\tScore: 31.96\tMovAverage(100): 23.29 \tFullAverage: 15.24\n",
      "Episode: 185 (19sec)\tScore: 39.54\tMovAverage(100): 23.51 \tFullAverage: 15.37\n",
      "Episode: 186 (19sec)\tScore: 38.81\tMovAverage(100): 23.69 \tFullAverage: 15.50\n",
      "Episode: 187 (19sec)\tScore: 38.76\tMovAverage(100): 23.84 \tFullAverage: 15.62\n",
      "Episode: 188 (19sec)\tScore: 36.10\tMovAverage(100): 24.02 \tFullAverage: 15.73\n",
      "Episode: 189 (19sec)\tScore: 32.84\tMovAverage(100): 24.21 \tFullAverage: 15.82\n",
      "Episode: 190 (19sec)\tScore: 25.37\tMovAverage(100): 24.34 \tFullAverage: 15.87\n",
      "Episode: 191 (19sec)\tScore: 21.78\tMovAverage(100): 24.34 \tFullAverage: 15.91\n",
      "Episode: 192 (19sec)\tScore: 36.80\tMovAverage(100): 24.61 \tFullAverage: 16.01\n",
      "Episode: 193 (19sec)\tScore: 31.03\tMovAverage(100): 24.73 \tFullAverage: 16.09\n",
      "Episode: 194 (19sec)\tScore: 29.04\tMovAverage(100): 24.84 \tFullAverage: 16.16\n",
      "Episode: 195 (19sec)\tScore: 39.19\tMovAverage(100): 25.12 \tFullAverage: 16.28\n",
      "Episode: 196 (19sec)\tScore: 18.67\tMovAverage(100): 25.18 \tFullAverage: 16.29\n",
      "Episode: 197 (19sec)\tScore: 38.17\tMovAverage(100): 25.43 \tFullAverage: 16.40\n",
      "Episode: 198 (20sec)\tScore: 35.51\tMovAverage(100): 25.68 \tFullAverage: 16.50\n",
      "Episode: 199 (19sec)\tScore: 32.57\tMovAverage(100): 25.89 \tFullAverage: 16.58\n",
      "Episode: 200 (19sec)\tScore: 24.79\tMovAverage(100): 26.06 \tFullAverage: 16.62\n",
      "Episode: 201 (19sec)\tScore: 35.49\tMovAverage(100): 26.27 \tFullAverage: 16.71\n",
      "Episode: 202 (19sec)\tScore: 32.13\tMovAverage(100): 26.51 \tFullAverage: 16.79\n",
      "Episode: 203 (19sec)\tScore: 26.58\tMovAverage(100): 26.65 \tFullAverage: 16.84\n",
      "Episode: 204 (19sec)\tScore: 38.19\tMovAverage(100): 26.91 \tFullAverage: 16.94\n",
      "Episode: 205 (19sec)\tScore: 36.65\tMovAverage(100): 27.22 \tFullAverage: 17.04\n",
      "Episode: 206 (19sec)\tScore: 37.00\tMovAverage(100): 27.48 \tFullAverage: 17.13\n",
      "Episode: 207 (19sec)\tScore: 26.12\tMovAverage(100): 27.55 \tFullAverage: 17.18\n",
      "Episode: 208 (19sec)\tScore: 30.36\tMovAverage(100): 27.76 \tFullAverage: 17.24\n",
      "Episode: 209 (19sec)\tScore: 36.81\tMovAverage(100): 27.95 \tFullAverage: 17.33\n",
      "Episode: 210 (19sec)\tScore: 31.80\tMovAverage(100): 28.07 \tFullAverage: 17.40\n",
      "Episode: 211 (19sec)\tScore: 11.67\tMovAverage(100): 27.95 \tFullAverage: 17.38\n",
      "Episode: 212 (19sec)\tScore: 37.94\tMovAverage(100): 28.21 \tFullAverage: 17.47\n",
      "Episode: 213 (19sec)\tScore: 29.87\tMovAverage(100): 28.39 \tFullAverage: 17.53\n",
      "Episode: 214 (21sec)\tScore: 38.44\tMovAverage(100): 28.60 \tFullAverage: 17.63\n",
      "Episode: 215 (19sec)\tScore: 38.32\tMovAverage(100): 28.76 \tFullAverage: 17.73\n",
      "Episode: 216 (19sec)\tScore: 35.21\tMovAverage(100): 28.88 \tFullAverage: 17.81\n",
      "Episode: 217 (19sec)\tScore: 35.11\tMovAverage(100): 29.05 \tFullAverage: 17.89\n",
      "Episode: 218 (20sec)\tScore: 39.50\tMovAverage(100): 29.26 \tFullAverage: 17.99\n",
      "Episode: 219 (19sec)\tScore: 20.53\tMovAverage(100): 29.31 \tFullAverage: 18.00\n"
     ]
    },
    {
     "name": "stdout",
     "output_type": "stream",
     "text": [
      "Episode: 220 (19sec)\tScore: 23.70\tMovAverage(100): 29.32 \tFullAverage: 18.02\n",
      "Episode: 221 (19sec)\tScore: 38.04\tMovAverage(100): 29.43 \tFullAverage: 18.11\n",
      "Episode: 222 (19sec)\tScore: 33.23\tMovAverage(100): 29.53 \tFullAverage: 18.18\n",
      "Episode: 223 (19sec)\tScore: 33.31\tMovAverage(100): 29.69 \tFullAverage: 18.25\n",
      "Episode: 224 (20sec)\tScore: 36.01\tMovAverage(100): 29.76 \tFullAverage: 18.33\n",
      "Episode: 225 (19sec)\tScore: 37.52\tMovAverage(100): 29.91 \tFullAverage: 18.41\n",
      "Episode: 226 (19sec)\tScore: 27.40\tMovAverage(100): 29.97 \tFullAverage: 18.45\n",
      "Episode: 227 (19sec)\tScore: 33.76\tMovAverage(100): 30.16 \tFullAverage: 18.52\n",
      "\n",
      "Environment solved in 227 episodes!\tAverage Score: 30.16\n"
     ]
    }
   ],
   "source": [
    "scores, movAverages, averages = ddpg(n_episodes = 500)"
   ]
  },
  {
   "cell_type": "markdown",
   "metadata": {},
   "source": [
    "### 5. Plot the results\n"
   ]
  },
  {
   "cell_type": "code",
   "execution_count": 9,
   "metadata": {
    "scrolled": true
   },
   "outputs": [
    {
     "data": {
      "image/png": "[encoded data removed]",
      "text/plain": [
       "<Figure size 432x288 with 1 Axes>"
      ]
     },
     "metadata": {
      "needs_background": "light"
     },
     "output_type": "display_data"
    }
   ],
   "source": [
    "fig = plt.figure()\n",
    "ax = fig.add_subplot(111)\n",
    "plt.plot(np.arange(len(scores)), scores, label='scores_DDPG')\n",
    "plt.plot(np.arange(len(scores)), movAverages,  label='moving avg')\n",
    "plt.ylabel('Score')\n",
    "plt.xlabel('Episode #')\n",
    "plt.legend(loc='upper left')\n",
    "plt.show()\n"
   ]
  },
  {
   "cell_type": "code",
   "execution_count": null,
   "metadata": {},
   "outputs": [],
   "source": [
    "env.close()"
   ]
  }
 ],
 "metadata": {
  "kernelspec": {
   "display_name": "Python 3",
   "language": "python",
   "name": "python3"
  },
  "language_info": {
   "codemirror_mode": {
    "name": "ipython",
    "version": 3
   },
   "file_extension": ".py",
   "mimetype": "text/x-python",
   "name": "python",
   "nbconvert_exporter": "python",
   "pygments_lexer": "ipython3",
   "version": "3.6.10"
  }
 },
 "nbformat": 4,
 "nbformat_minor": 2
}
