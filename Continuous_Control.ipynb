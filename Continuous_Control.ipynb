{
 "cells": [
  {
   "cell_type": "markdown",
   "metadata": {},
   "source": [
    "# Continuous Control\n",
    "\n",
    "---\n",
    "\n",
    "In this notebook, you will learn how to use the Unity ML-Agents environment for the second project of the [Deep Reinforcement Learning Nanodegree](https://www.udacity.com/course/deep-reinforcement-learning-nanodegree--nd893) program.\n",
    "\n",
    "### 1. Start the Environment\n",
    "\n",
    "We begin by importing the necessary packages.  If the code cell below returns an error, please revisit the project instructions to double-check that you have installed [Unity ML-Agents](https://github.com/Unity-Technologies/ml-agents/blob/master/docs/Installation.md) and [NumPy](http://www.numpy.org/)."
   ]
  },
  {
   "cell_type": "code",
   "execution_count": 1,
   "metadata": {},
   "outputs": [],
   "source": [
    "import time\n",
    "from collections import deque\n",
    "\n",
    "from unityagents import UnityEnvironment\n",
    "import numpy as np\n",
    "import torch\n",
    "\n",
    "import matplotlib.pyplot as plt"
   ]
  },
  {
   "cell_type": "markdown",
   "metadata": {},
   "source": [
    "Next, we will start the environment!  **_Before running the code cell below_**, change the `file_name` parameter to match the location of the Unity environment that you downloaded.\n",
    "\n",
    "- **Mac**: `\"path/to/Reacher.app\"`\n",
    "- **Windows** (x86): `\"path/to/Reacher_Windows_x86/Reacher.exe\"`\n",
    "- **Windows** (x86_64): `\"path/to/Reacher_Windows_x86_64/Reacher.exe\"`\n",
    "- **Linux** (x86): `\"path/to/Reacher_Linux/Reacher.x86\"`\n",
    "- **Linux** (x86_64): `\"path/to/Reacher_Linux/Reacher.x86_64\"`\n",
    "- **Linux** (x86, headless): `\"path/to/Reacher_Linux_NoVis/Reacher.x86\"`\n",
    "- **Linux** (x86_64, headless): `\"path/to/Reacher_Linux_NoVis/Reacher.x86_64\"`\n",
    "\n",
    "For instance, if you are using a Mac, then you downloaded `Reacher.app`.  If this file is in the same folder as the notebook, then the line below should appear as follows:\n",
    "```\n",
    "env = UnityEnvironment(file_name=\"Reacher.app\")\n",
    "```"
   ]
  },
  {
   "cell_type": "code",
   "execution_count": 2,
   "metadata": {
    "scrolled": true
   },
   "outputs": [
    {
     "name": "stderr",
     "output_type": "stream",
     "text": [
      "INFO:unityagents:\n",
      "'Academy' started successfully!\n",
      "Unity Academy name: Academy\n",
      "        Number of Brains: 1\n",
      "        Number of External Brains : 1\n",
      "        Lesson number : 0\n",
      "        Reset Parameters :\n",
      "\t\tgoal_speed -> 1.0\n",
      "\t\tgoal_size -> 5.0\n",
      "Unity brain name: ReacherBrain\n",
      "        Number of Visual Observations (per agent): 0\n",
      "        Vector Observation space type: continuous\n",
      "        Vector Observation space size (per agent): 33\n",
      "        Number of stacked Vector Observation: 1\n",
      "        Vector Action space type: continuous\n",
      "        Vector Action space size (per agent): 4\n",
      "        Vector Action descriptions: , , , \n"
     ]
    }
   ],
   "source": [
    "env = UnityEnvironment(file_name='C:/Users/rovaa/deep-reinforcement-learning/p2_continuous-control/Reacher_Windows_x86_64/Reacher.exe')\n",
    "#env = UnityEnvironment(file_name=\"C:/Users/rovaa/deep-reinforcement-learning/p1_navigation/Banana_Windows_x86_64/Banana.exe\")"
   ]
  },
  {
   "cell_type": "markdown",
   "metadata": {},
   "source": [
    "Environments contain **_brains_** which are responsible for deciding the actions of their associated agents. Here we check for the first brain available, and set it as the default brain we will be controlling from Python."
   ]
  },
  {
   "cell_type": "code",
   "execution_count": 3,
   "metadata": {},
   "outputs": [],
   "source": [
    "# get the default brain\n",
    "brain_name = env.brain_names[0]\n",
    "brain = env.brains[brain_name]"
   ]
  },
  {
   "cell_type": "markdown",
   "metadata": {},
   "source": [
    "### 2. Examine the State and Action Spaces\n",
    "\n",
    "In this environment, a double-jointed arm can move to target locations. A reward of `+0.1` is provided for each step that the agent's hand is in the goal location. Thus, the goal of your agent is to maintain its position at the target location for as many time steps as possible.\n",
    "\n",
    "The observation space consists of `33` variables corresponding to position, rotation, velocity, and angular velocities of the arm.  Each action is a vector with four numbers, corresponding to torque applicable to two joints.  Every entry in the action vector must be a number between `-1` and `1`.\n",
    "\n",
    "Run the code cell below to print some information about the environment."
   ]
  },
  {
   "cell_type": "code",
   "execution_count": 4,
   "metadata": {},
   "outputs": [
    {
     "name": "stdout",
     "output_type": "stream",
     "text": [
      "Number of agents: 1\n",
      "Size of each action: 4\n",
      "There are 1 agents. Each observes a state with length: 33\n",
      "The state for the first agent looks like: [ 0.00000000e+00 -4.00000000e+00  0.00000000e+00  1.00000000e+00\n",
      " -0.00000000e+00 -0.00000000e+00 -4.37113883e-08  0.00000000e+00\n",
      "  0.00000000e+00  0.00000000e+00  0.00000000e+00  0.00000000e+00\n",
      "  0.00000000e+00  0.00000000e+00 -1.00000000e+01  0.00000000e+00\n",
      "  1.00000000e+00 -0.00000000e+00 -0.00000000e+00 -4.37113883e-08\n",
      "  0.00000000e+00  0.00000000e+00  0.00000000e+00  0.00000000e+00\n",
      "  0.00000000e+00  0.00000000e+00  5.75471878e+00 -1.00000000e+00\n",
      "  5.55726671e+00  0.00000000e+00  1.00000000e+00  0.00000000e+00\n",
      " -1.68164849e-01]\n"
     ]
    }
   ],
   "source": [
    "# reset the environment\n",
    "env_info = env.reset(train_mode=True)[brain_name]\n",
    "\n",
    "# number of agents\n",
    "num_agents = len(env_info.agents)\n",
    "print('Number of agents:', num_agents)\n",
    "\n",
    "# size of each action\n",
    "action_size = brain.vector_action_space_size\n",
    "print('Size of each action:', action_size)\n",
    "\n",
    "# examine the state space \n",
    "states = env_info.vector_observations\n",
    "state_size = states.shape[1]\n",
    "print('There are {} agents. Each observes a state with length: {}'.format(states.shape[0], state_size))\n",
    "print('The state for the first agent looks like:', states[0])"
   ]
  },
  {
   "cell_type": "markdown",
   "metadata": {},
   "source": [
    "### 3. Take Random Actions in the Environment\n",
    "\n",
    "In the next code cell, you will learn how to use the Python API to control the agent and receive feedback from the environment.\n",
    "\n",
    "Once this cell is executed, you will watch the agent's performance, if it selects an action at random with each time step.  A window should pop up that allows you to observe the agent, as it moves through the environment.  \n",
    "\n",
    "Of course, as part of the project, you'll have to change the code so that the agent is able to use its experience to gradually choose better actions when interacting with the environment!"
   ]
  },
  {
   "cell_type": "code",
   "execution_count": null,
   "metadata": {},
   "outputs": [],
   "source": [
    "env_info = env.reset(train_mode=False)[brain_name]     # reset the environment    \n",
    "states = env_info.vector_observations                  # get the current state (for each agent)\n",
    "scores = np.zeros(num_agents)                          # initialize the score (for each agent)\n",
    "while True:\n",
    "    actions = np.random.randn(num_agents, action_size) # select an action (for each agent)\n",
    "    actions = np.clip(actions, -1, 1)                  # all actions between -1 and 1\n",
    "    env_info = env.step(actions)[brain_name]           # send all actions to tne environment\n",
    "    next_states = env_info.vector_observations         # get next state (for each agent)\n",
    "    rewards = env_info.rewards                         # get reward (for each agent)\n",
    "    dones = env_info.local_done                        # see if episode finished\n",
    "    scores += env_info.rewards                         # update the score (for each agent)\n",
    "    states = next_states                               # roll over states to next time step\n",
    "    if np.any(dones):                                  # exit loop if episode finished\n",
    "        break\n",
    "print('Total score (averaged over agents) this episode: {}'.format(np.mean(scores)))"
   ]
  },
  {
   "cell_type": "markdown",
   "metadata": {},
   "source": [
    "When finished, you can close the environment."
   ]
  },
  {
   "cell_type": "code",
   "execution_count": null,
   "metadata": {},
   "outputs": [],
   "source": [
    "env.close()"
   ]
  },
  {
   "cell_type": "markdown",
   "metadata": {},
   "source": [
    "### 4. It's Your Turn!\n",
    "\n",
    "Now it's your turn to train your own agent to solve the environment!  When training the environment, set `train_mode=True`, so that the line for resetting the environment looks like the following:\n",
    "```python\n",
    "env_info = env.reset(train_mode=True)[brain_name]\n",
    "```"
   ]
  },
  {
   "cell_type": "markdown",
   "metadata": {},
   "source": [
    "#### 4.1 Import and instantiate the agent \n",
    "In the following cell of code the agent is imported by `ddpg_agent` and it it instantiated. "
   ]
  },
  {
   "cell_type": "code",
   "execution_count": 5,
   "metadata": {},
   "outputs": [],
   "source": [
    "import ddpg_agent\n",
    "import torch.optim as optim\n",
    "import importlib\n",
    "import time\n",
    "\n",
    "importlib.reload(ddpg_agent)\n",
    "\n",
    "agent = ddpg_agent.Agent(state_size=state_size, action_size=action_size, random_seed = 10)"
   ]
  },
  {
   "cell_type": "markdown",
   "metadata": {},
   "source": [
    "#### 4.2 Test de agent"
   ]
  },
  {
   "cell_type": "code",
   "execution_count": null,
   "metadata": {},
   "outputs": [],
   "source": [
    "# An untrained agent\n",
    "\n",
    "device = torch.device(\"cuda:0\" if torch.cuda.is_available() else \"cpu\")\n",
    "\n",
    "env_info = env.reset(train_mode=False)[brain_name] # reset the environment\n",
    "state = env_info.vector_observations[0]            # get the current state\n",
    "score = 0                                          # initialize the score\n",
    "\n",
    "for j in range(100):\n",
    "    actions = agent.act(state)                # select an action\n",
    "    env_info = env.step(actions)[brain_name]  # send the action to the environment\n",
    "    next_state = env_info.vector_observations[0]   # get the next state\n",
    "    reward = env_info.rewards[0]                   # get the reward\n",
    "    done = env_info.local_done[0]                  # see if episode has finished\n",
    "    score += reward                                # update the score\n",
    "    state = next_state                             # roll over the state to next time step\n",
    "    if done:                                       # exit loop if episode finished\n",
    "        break\n",
    "\n",
    "print(\"Score: {}\".format(score))"
   ]
  },
  {
   "cell_type": "markdown",
   "metadata": {},
   "source": [
    "#### 4.3 Define the DDPG training function and train an agent"
   ]
  },
  {
   "cell_type": "code",
   "execution_count": 6,
   "metadata": {},
   "outputs": [],
   "source": [
    "def ddpg(n_episodes=1000, max_t=10000, print_every=1, save_every=100, ckp_critic='checkpoint_critic.pth',ckp_actor = 'checkpoint_actor.pth'):\n",
    "    \n",
    "    \"\"\"DDQN Algorithm.\n",
    "    \n",
    "    Params\n",
    "    ======\n",
    "        n_episodes (int): maximum number of training episodes\n",
    "        max_t (int): maximum number of timesteps per episode\n",
    "        print_every (int): frequency of printing information throughout iteration \n",
    "        save_every (int): number of episodes to save actor-critic weights\n",
    "        ckp_critic (str): path to save weights of critic NN\n",
    "        ckp_actor(str): path to save weights of actor NN\n",
    "        \"\"\"\n",
    "        \n",
    "    \n",
    "    scores = []\n",
    "    averages = []\n",
    "    scores_deque = deque(maxlen=100) # The goal to solve the environment is obtain a moving average over of 30, over the last 100 episodes\n",
    "    \n",
    "    for i_episode in range(1, n_episodes+1):\n",
    "        env_info = env.reset(train_mode=True)[brain_name]\n",
    "        agent.reset()\n",
    "        state = env_info.vector_observations[0]            # get the current state\n",
    "        score = 0\n",
    "        start_time = time.time()\n",
    "        for t in range(max_t):\n",
    "            action = agent.act(state)          # select an action\n",
    "       \n",
    "            env_info = env.step(action)[brain_name]        # send the action to the environment\n",
    "            next_state = env_info.vector_observations[0]   # get the next state\n",
    "            reward = env_info.rewards[0]                   # get the reward\n",
    "            done = env_info.local_done[0]                  # see if episode has finished\n",
    "            agent.step(state, action, reward, next_state, done) # take step with agent (including learning)\n",
    "            score += reward                                # update the score\n",
    "            state = next_state                             # roll over the state to next time step\n",
    "            if done:                                       # exit loop if episode finished\n",
    "                break\n",
    "        \n",
    "        duration = time.time() - start_time\n",
    "        scores_deque.append(score)       # save most recent score on the scores deque\n",
    "        scores.append(score)             # save most recent score\n",
    "        averages.append(np.mean(scores))  # save mean of scores\n",
    "\n",
    "        #print('\\rEpisode {}\\tAverage Score: {:.2f}'.format(i_episode, np.mean(scores_deque)), end=\"\")\n",
    "        \n",
    "        if i_episode % print_every == 0:\n",
    "            print('\\rEpisode: {} ({}sec)\\tScore: {:.2f}\\tMovAverage(100): {:.2f} \\tFullAverage: {:.2f}'.format(i_episode, round(duration), score,np.mean(scores_deque), np.mean(scores)))\n",
    "            \n",
    "        if i_episode % save_every == 0:\n",
    "            torch.save(agent.actor_local.state_dict(), ckp_actor)\n",
    "            torch.save(agent.critic_local.state_dict(), ckp_critic)\n",
    "        if np.mean(scores_deque)>=30.0:\n",
    "            print('\\nEnvironment solved in {:d} episodes!\\tAverage Score: {:.2f}'.format(i_episode, np.mean(scores_deque)))\n",
    "            torch.save(agent.actor_local.state_dict(), ckp_actor)\n",
    "            torch.save(agent.critic_local.state_dict(), ckp_critic)\n",
    "            break\n",
    "            \n",
    "    return scores, averages"
   ]
  },
  {
   "cell_type": "markdown",
   "metadata": {},
   "source": [
    "Train the agent for a number of episodes: `n_episodes`"
   ]
  },
  {
   "cell_type": "code",
   "execution_count": null,
   "metadata": {},
   "outputs": [
    {
     "name": "stdout",
     "output_type": "stream",
     "text": [
      "Episode: 1 (16sec)\tScore: 0.25\tMovAverage(100): 0.25 \tFullAverage: 0.25\n",
      "Episode: 2 (20sec)\tScore: 0.24\tMovAverage(100): 0.24 \tFullAverage: 0.24\n",
      "Episode: 3 (20sec)\tScore: 0.58\tMovAverage(100): 0.36 \tFullAverage: 0.36\n",
      "Episode: 4 (21sec)\tScore: 0.14\tMovAverage(100): 0.30 \tFullAverage: 0.30\n",
      "Episode: 5 (20sec)\tScore: 0.79\tMovAverage(100): 0.40 \tFullAverage: 0.40\n",
      "Episode: 6 (20sec)\tScore: 0.13\tMovAverage(100): 0.35 \tFullAverage: 0.35\n",
      "Episode: 7 (21sec)\tScore: 0.11\tMovAverage(100): 0.32 \tFullAverage: 0.32\n",
      "Episode: 8 (21sec)\tScore: 0.59\tMovAverage(100): 0.35 \tFullAverage: 0.35\n",
      "Episode: 9 (21sec)\tScore: 0.12\tMovAverage(100): 0.33 \tFullAverage: 0.33\n",
      "Episode: 10 (21sec)\tScore: 1.29\tMovAverage(100): 0.42 \tFullAverage: 0.42\n",
      "Episode: 11 (21sec)\tScore: 1.07\tMovAverage(100): 0.48 \tFullAverage: 0.48\n",
      "Episode: 12 (21sec)\tScore: 0.87\tMovAverage(100): 0.51 \tFullAverage: 0.51\n",
      "Episode: 13 (21sec)\tScore: 0.00\tMovAverage(100): 0.48 \tFullAverage: 0.48\n",
      "Episode: 14 (22sec)\tScore: 1.05\tMovAverage(100): 0.52 \tFullAverage: 0.52\n",
      "Episode: 15 (22sec)\tScore: 0.59\tMovAverage(100): 0.52 \tFullAverage: 0.52\n",
      "Episode: 16 (21sec)\tScore: 1.39\tMovAverage(100): 0.58 \tFullAverage: 0.58\n",
      "Episode: 17 (21sec)\tScore: 1.16\tMovAverage(100): 0.61 \tFullAverage: 0.61\n",
      "Episode: 18 (20sec)\tScore: 1.44\tMovAverage(100): 0.66 \tFullAverage: 0.66\n",
      "Episode: 19 (20sec)\tScore: 1.20\tMovAverage(100): 0.68 \tFullAverage: 0.68\n",
      "Episode: 20 (20sec)\tScore: 1.30\tMovAverage(100): 0.72 \tFullAverage: 0.72\n",
      "Episode: 21 (20sec)\tScore: 0.51\tMovAverage(100): 0.71 \tFullAverage: 0.71\n",
      "Episode: 22 (20sec)\tScore: 0.36\tMovAverage(100): 0.69 \tFullAverage: 0.69\n",
      "Episode: 23 (20sec)\tScore: 1.03\tMovAverage(100): 0.70 \tFullAverage: 0.70\n",
      "Episode: 24 (20sec)\tScore: 1.17\tMovAverage(100): 0.72 \tFullAverage: 0.72\n",
      "Episode: 25 (22sec)\tScore: 0.79\tMovAverage(100): 0.73 \tFullAverage: 0.73\n",
      "Episode: 26 (25sec)\tScore: 0.60\tMovAverage(100): 0.72 \tFullAverage: 0.72\n",
      "Episode: 27 (22sec)\tScore: 1.32\tMovAverage(100): 0.74 \tFullAverage: 0.74\n",
      "Episode: 28 (21sec)\tScore: 0.17\tMovAverage(100): 0.72 \tFullAverage: 0.72\n",
      "Episode: 29 (23sec)\tScore: 1.35\tMovAverage(100): 0.75 \tFullAverage: 0.75\n",
      "Episode: 30 (22sec)\tScore: 1.37\tMovAverage(100): 0.77 \tFullAverage: 0.77\n",
      "Episode: 31 (22sec)\tScore: 0.62\tMovAverage(100): 0.76 \tFullAverage: 0.76\n",
      "Episode: 32 (22sec)\tScore: 1.82\tMovAverage(100): 0.79 \tFullAverage: 0.79\n",
      "Episode: 33 (22sec)\tScore: 3.30\tMovAverage(100): 0.87 \tFullAverage: 0.87\n",
      "Episode: 34 (21sec)\tScore: 3.64\tMovAverage(100): 0.95 \tFullAverage: 0.95\n",
      "Episode: 35 (22sec)\tScore: 1.23\tMovAverage(100): 0.96 \tFullAverage: 0.96\n",
      "Episode: 36 (22sec)\tScore: 1.22\tMovAverage(100): 0.97 \tFullAverage: 0.97\n",
      "Episode: 37 (21sec)\tScore: 1.48\tMovAverage(100): 0.98 \tFullAverage: 0.98\n",
      "Episode: 38 (21sec)\tScore: 3.33\tMovAverage(100): 1.04 \tFullAverage: 1.04\n",
      "Episode: 39 (22sec)\tScore: 1.14\tMovAverage(100): 1.05 \tFullAverage: 1.05\n",
      "Episode: 40 (21sec)\tScore: 2.68\tMovAverage(100): 1.09 \tFullAverage: 1.09\n",
      "Episode: 41 (21sec)\tScore: 2.37\tMovAverage(100): 1.12 \tFullAverage: 1.12\n",
      "Episode: 42 (22sec)\tScore: 2.52\tMovAverage(100): 1.15 \tFullAverage: 1.15\n",
      "Episode: 43 (23sec)\tScore: 1.13\tMovAverage(100): 1.15 \tFullAverage: 1.15\n"
     ]
    }
   ],
   "source": [
    "scores, averages = ddpg(n_episodes = 500)"
   ]
  },
  {
   "cell_type": "markdown",
   "metadata": {},
   "source": [
    "### 5. Plot the results\n"
   ]
  },
  {
   "cell_type": "code",
   "execution_count": null,
   "metadata": {
    "scrolled": true
   },
   "outputs": [],
   "source": [
    "fig = plt.figure()\n",
    "ax = fig.add_subplot(111)\n",
    "plt.plot(np.arange(len(scores)), scores, label='scores_DDPG')\n",
    "plt.plot(np.arange(len(scores)), averages,  label='moving avg')\n",
    "plt.ylabel('Score')\n",
    "plt.xlabel('Episode #')\n",
    "plt.legend(loc='upper left')\n",
    "plt.show()\n"
   ]
  },
  {
   "cell_type": "code",
   "execution_count": null,
   "metadata": {},
   "outputs": [],
   "source": [
    "env.close()"
   ]
  }
 ],
 "metadata": {
  "kernelspec": {
   "display_name": "Python 3",
   "language": "python",
   "name": "python3"
  },
  "language_info": {
   "codemirror_mode": {
    "name": "ipython",
    "version": 3
   },
   "file_extension": ".py",
   "mimetype": "text/x-python",
   "name": "python",
   "nbconvert_exporter": "python",
   "pygments_lexer": "ipython3",
   "version": "3.6.10"
  }
 },
 "nbformat": 4,
 "nbformat_minor": 2
}
